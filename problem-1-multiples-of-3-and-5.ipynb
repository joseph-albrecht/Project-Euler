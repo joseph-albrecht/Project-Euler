{
 "cells": [
  {
   "cell_type": "markdown",
   "metadata": {
    "deletable": true,
    "editable": true
   },
   "source": [
    "# Problem 1 - Multiples of 3 and 5"
   ]
  },
  {
   "cell_type": "markdown",
   "metadata": {
    "deletable": true,
    "editable": true
   },
   "source": [
    "If we list all the natural numbers below 10 that are multiples of 3 or 5, we get 3, 5, 6 and 9.\n",
    "The sum of these multiples is 23.\n",
    "Find the sum of all the multiples of 3 or 5 below 1000."
   ]
  },
  {
   "cell_type": "code",
   "execution_count": 4,
   "metadata": {
    "collapsed": true,
    "deletable": true,
    "editable": true
   },
   "outputs": [],
   "source": [
    "import math\n",
    "import functools"
   ]
  },
  {
   "cell_type": "code",
   "execution_count": 209,
   "metadata": {
    "collapsed": true,
    "deletable": true,
    "editable": true
   },
   "outputs": [],
   "source": [
    "def sum_multiples (highest_number):\n",
    "    total = 0;\n",
    "    for current_number in range(highest_number + 1):\n",
    "        if current_number % 3 == 0 or current_number % 5 == 0:\n",
    "            total += current_number;\n",
    "    return total;"
   ]
  },
  {
   "cell_type": "code",
   "execution_count": 210,
   "metadata": {
    "collapsed": false,
    "deletable": true,
    "editable": true
   },
   "outputs": [
    {
     "name": "stdout",
     "output_type": "stream",
     "text": [
      "233168\n"
     ]
    }
   ],
   "source": [
    "print (sum_multiples(999))"
   ]
  },
  {
   "cell_type": "markdown",
   "metadata": {
    "deletable": true,
    "editable": true
   },
   "source": [
    "### Here I use filter and reduce to simplify the code"
   ]
  },
  {
   "cell_type": "code",
   "execution_count": 10,
   "metadata": {
    "collapsed": true,
    "deletable": true,
    "editable": true
   },
   "outputs": [],
   "source": [
    "def sum_multiples (highest_number):\n",
    "    multiples = filter(lambda x: x % 3 == 0 or x % 5 == 0, range(highest_number + 1))\n",
    "    return functools.reduce(lambda x, y: x+y, multiples)"
   ]
  },
  {
   "cell_type": "code",
   "execution_count": 11,
   "metadata": {
    "collapsed": false,
    "deletable": true,
    "editable": true
   },
   "outputs": [
    {
     "name": "stdout",
     "output_type": "stream",
     "text": [
      "233168\n"
     ]
    }
   ],
   "source": [
    "print (sum_multiples(999))"
   ]
  },
  {
   "cell_type": "markdown",
   "metadata": {
    "deletable": true,
    "editable": true
   },
   "source": [
    "### I believe the code is most readable with a list comprehension and a separate check_if_multiple function instead of a lambda expression"
   ]
  },
  {
   "cell_type": "code",
   "execution_count": 15,
   "metadata": {
    "collapsed": true,
    "deletable": true,
    "editable": true
   },
   "outputs": [],
   "source": [
    "def check_if_multiple(number, factor):\n",
    "    return number % factor == 0"
   ]
  },
  {
   "cell_type": "code",
   "execution_count": 16,
   "metadata": {
    "collapsed": true,
    "deletable": true,
    "editable": true
   },
   "outputs": [],
   "source": [
    "def sum_multiples (highest_number):\n",
    "    multiples = [x for x in range(highest_number + 1) if check_if_multiple(x,3) or check_if_multiple(x,5)]\n",
    "    return sum(multiples)"
   ]
  },
  {
   "cell_type": "code",
   "execution_count": 17,
   "metadata": {
    "collapsed": false,
    "deletable": true,
    "editable": true
   },
   "outputs": [
    {
     "name": "stdout",
     "output_type": "stream",
     "text": [
      "233168\n"
     ]
    }
   ],
   "source": [
    "print (sum_multiples(999))"
   ]
  },
  {
   "cell_type": "markdown",
   "metadata": {
    "deletable": true,
    "editable": true
   },
   "source": [
    "## Generalized for multiple divisors"
   ]
  },
  {
   "cell_type": "markdown",
   "metadata": {
    "deletable": true,
    "editable": true
   },
   "source": [
    "I added a list of divisors that the function can now check.\n",
    "I used a boolean to make sure that I wasn't adding the same number multiple times."
   ]
  },
  {
   "cell_type": "code",
   "execution_count": 211,
   "metadata": {
    "collapsed": true,
    "deletable": true,
    "editable": true
   },
   "outputs": [],
   "source": [
    "def sum_multiples (highest_number = 0, divisors = []):\n",
    "    total = 0;\n",
    "    for current_number in range(highest_number + 1):\n",
    "        divisable = False\n",
    "        for divisor in divisors:\n",
    "            if current_number % divisor == 0:\n",
    "                divisable = True;\n",
    "        if divisable:\n",
    "            total += current_number\n",
    "    return total;"
   ]
  },
  {
   "cell_type": "code",
   "execution_count": 212,
   "metadata": {
    "collapsed": false,
    "deletable": true,
    "editable": true
   },
   "outputs": [
    {
     "name": "stdout",
     "output_type": "stream",
     "text": [
      "233168\n",
      "366832\n"
     ]
    }
   ],
   "source": [
    "print (sum_multiples(999, [3,5]))\n",
    "print (sum_multiples(999, [2,3,5]))"
   ]
  },
  {
   "cell_type": "markdown",
   "metadata": {},
   "source": [
    "Here is another approach using the \n",
    "[any()](https://docs.python.org/3/library/functions.html#any)\n",
    "built-in function.\n",
    "Which is easier to read? The version below or the version above?"
   ]
  },
  {
   "cell_type": "code",
   "execution_count": 1,
   "metadata": {
    "collapsed": true,
    "deletable": true,
    "editable": true
   },
   "outputs": [],
   "source": [
    "def sum_multiples(highest_number=0, divisors=[]):\n",
    "    total = 0;\n",
    "    for current_number in range(highest_number + 1):\n",
    "        divisable = any(current_number % divisor == 0 for divisor in divisors)\n",
    "        if divisable:\n",
    "            total += current_number\n",
    "    return total;"
   ]
  },
  {
   "cell_type": "code",
   "execution_count": 2,
   "metadata": {
    "collapsed": false,
    "deletable": true,
    "editable": true
   },
   "outputs": [
    {
     "name": "stdout",
     "output_type": "stream",
     "text": [
      "233168\n",
      "366832\n"
     ]
    }
   ],
   "source": [
    "print(sum_multiples(999, [3,5]))\n",
    "print(sum_multiples(999, [2,3,5]))"
   ]
  },
  {
   "cell_type": "markdown",
   "metadata": {
    "deletable": true,
    "editable": true
   },
   "source": [
    "## Separate sum and checking functions"
   ]
  },
  {
   "cell_type": "markdown",
   "metadata": {
    "deletable": true,
    "editable": true
   },
   "source": [
    "I separated the sum and checking functions so that other ways of determining which numbers in a series could be added."
   ]
  },
  {
   "cell_type": "code",
   "execution_count": 213,
   "metadata": {
    "collapsed": true,
    "deletable": true,
    "editable": true
   },
   "outputs": [],
   "source": [
    "def sum_to(highest_number = 0, important_numbers = [], comparator = lambda x, y: True):\n",
    "    total = 0\n",
    "    for current_number in range(highest_number + 1):\n",
    "        add = False;\n",
    "        for important_number in important_numbers:\n",
    "            if (comparator(current_number, important_number)):\n",
    "                add = True\n",
    "        if add:\n",
    "            total += current_number\n",
    "    return total"
   ]
  },
  {
   "cell_type": "code",
   "execution_count": 214,
   "metadata": {
    "collapsed": false,
    "deletable": true,
    "editable": true
   },
   "outputs": [
    {
     "name": "stdout",
     "output_type": "stream",
     "text": [
      "The sum of the numbers up to 999 that are divisable by 3 or 5 is 233168\n",
      "The sum of the numbers up to 1 that are greater than 0 is 1\n",
      "The sum of the numbers up to 2 that are greater than 0 is 3\n",
      "The sum of the numbers up to 3 that are greater than 0 is 6\n",
      "The sum of the numbers up to 2 that are the square root of 4 is 2\n",
      "The sum of the numbers up to 3 that are the square root of 4 or 9 is 5\n"
     ]
    }
   ],
   "source": [
    "divisable = lambda x, y: x % y == 0\n",
    "greater_than = lambda x, y: x > y\n",
    "square_root_of = lambda x, y: x == math.sqrt(y)\n",
    "print(\"The sum of the numbers up to 999 that are divisable by 3 or 5 is {}\".format(sum_to(999, [3,5], divisable)))\n",
    "print(\"The sum of the numbers up to 1 that are greater than 0 is {}\".format(sum_to(1, [0], greater_than)))\n",
    "print(\"The sum of the numbers up to 2 that are greater than 0 is {}\".format(sum_to(2, [0], greater_than)))\n",
    "print(\"The sum of the numbers up to 3 that are greater than 0 is {}\".format(sum_to(3, [0], greater_than)))\n",
    "print(\"The sum of the numbers up to 2 that are the square root of 4 is {}\".format(sum_to(2, [4], square_root_of)))\n",
    "print(\"The sum of the numbers up to 3 that are the square root of 4 or 9 is {}\".format(sum_to(3, [4, 9], square_root_of)))"
   ]
  }
 ],
 "metadata": {
  "kernelspec": {
   "display_name": "Python 3",
   "language": "python",
   "name": "python3"
  },
  "language_info": {
   "codemirror_mode": {
    "name": "ipython",
    "version": 3
   },
   "file_extension": ".py",
   "mimetype": "text/x-python",
   "name": "python",
   "nbconvert_exporter": "python",
   "pygments_lexer": "ipython3",
   "version": "3.6.0"
  }
 },
 "nbformat": 4,
 "nbformat_minor": 2
}
